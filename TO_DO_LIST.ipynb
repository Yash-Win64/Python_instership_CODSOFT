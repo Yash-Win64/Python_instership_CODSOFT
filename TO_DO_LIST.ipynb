{
 "cells": [
  {
   "cell_type": "code",
   "execution_count": 10,
   "id": "ea69f274-bc47-46d3-a376-02bb263d520c",
   "metadata": {},
   "outputs": [],
   "source": [
    "import tkinter as tk\n",
    "from tkinter import simpledialog, messagebox\n",
    "\n",
    "def add_task():\n",
    "    task = simpledialog.askstring(\"Add A Task\", \"Enter a new task to your list:\")\n",
    "    if task:\n",
    "        todo_list.append(task)\n",
    "        update_display()\n",
    "\n",
    "def remove_task():\n",
    "    if not todo_list:\n",
    "        messagebox.showinfo(\"No Tasks\", \"No tasks in list to remove.\")\n",
    "        return\n",
    "\n",
    "    task_num = simpledialog.askinteger(\"Remove A Task\", \"Enter particular task number to remove:\", minvalue=1, maxvalue=len(todo_list))\n",
    "    if task_num:\n",
    "        del todo_list[task_num - 1]\n",
    "        update_display()\n",
    "\n",
    "def update_display():\n",
    "    task_display.config(state=tk.NORMAL)\n",
    "    task_display.delete(1.0, tk.END)\n",
    "    for index, task in enumerate(todo_list, start=1):\n",
    "        task_display.insert(tk.END, f\"{index}. {task}\\n\")\n",
    "    task_display.config(state=tk.DISABLED)\n",
    "\n",
    "def quit_app():\n",
    "    window.destroy()\n",
    "\n",
    "# Initialize the main window\n",
    "window = tk.Tk()\n",
    "window.title(\"Fancy ToDo List\")\n",
    "window.geometry(\"500x500\")  # Set the window dimensions\n",
    "\n",
    "# Create a canvas with gradient background\n",
    "canvas = tk.Canvas(window, bg=\"black\", width=500, height=500)\n",
    "canvas.pack()\n",
    "\n",
    "\n",
    "# Create GUI elements with customized appearance\n",
    "add_button = tk.Button(window, text=\"Add Task\", command=add_task, bg=\"#4286f4\", fg=\"white\", font=(\"Helvetica\", 12))\n",
    "remove_button = tk.Button(window, text=\"Remove Task\", command=remove_task, bg=\"#34495e\", fg=\"white\", font=(\"Helvetica\", 12))\n",
    "quit_button = tk.Button(window, text=\"Quit\", command=quit_app, bg=\"#e74c3c\", fg=\"white\", font=(\"Helvetica\", 12))\n",
    "task_display = tk.Text(window, wrap=tk.WORD, state=tk.DISABLED, bg=\"#f2f2f2\", font=(\"Helvetica\", 12))\n",
    "\n",
    "# Organize GUI elements using the grid layout\n",
    "add_button_window = canvas.create_window(100, 30, window=add_button)\n",
    "remove_button_window = canvas.create_window(250, 30, window=remove_button)\n",
    "quit_button_window = canvas.create_window(400, 30, window=quit_button)\n",
    "task_display_window = canvas.create_window(250, 250, window=task_display, width=400, height=300)\n",
    "\n",
    "# Initialize the to-do list\n",
    "todo_list = []\n",
    "\n",
    "# Start the GUI event loop\n",
    "window.mainloop()"
   ]
  },
  {
   "cell_type": "code",
   "execution_count": null,
   "id": "980957dd-9c56-4404-9322-d702b53a96c5",
   "metadata": {},
   "outputs": [],
   "source": []
  }
 ],
 "metadata": {
  "kernelspec": {
   "display_name": "Python 3 (ipykernel)",
   "language": "python",
   "name": "python3"
  },
  "language_info": {
   "codemirror_mode": {
    "name": "ipython",
    "version": 3
   },
   "file_extension": ".py",
   "mimetype": "text/x-python",
   "name": "python",
   "nbconvert_exporter": "python",
   "pygments_lexer": "ipython3",
   "version": "3.11.5"
  }
 },
 "nbformat": 4,
 "nbformat_minor": 5
}
