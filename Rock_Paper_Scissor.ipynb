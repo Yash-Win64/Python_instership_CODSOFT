{
 "cells": [
  {
   "cell_type": "code",
   "execution_count": null,
   "id": "6f719d46-89d9-4b8d-bda6-afedc8cb91fa",
   "metadata": {},
   "outputs": [],
   "source": [
    "import random\n",
    "\n",
    "def determine_winner(user_choice, computer_choice):\n",
    "    if user_choice == computer_choice:\n",
    "        return \"It's a tie!\", 0, 0\n",
    "    elif (\n",
    "        (user_choice == \"rock\" and computer_choice == \"scissors\") or\n",
    "        (user_choice == \"scissors\" and computer_choice == \"paper\") or\n",
    "        (user_choice == \"paper\" and computer_choice == \"rock\")\n",
    "    ):\n",
    "        return \"You win!\", 1, 0\n",
    "    else:\n",
    "        return \"Computer wins!\", 0, 1\n",
    "\n",
    "def main():\n",
    "    user_score = 0\n",
    "    computer_score = 0\n",
    "    \n",
    "    print(\"Welcome to Rock-Paper-Scissors Game!\")\n",
    "\n",
    "    while True:\n",
    "        print(\"\\nChoose: rock, paper, or scissors (or 'quit' to exit)\")\n",
    "        user_choice = input(\"Your choice: \").lower()\n",
    "\n",
    "        if user_choice == 'quit':\n",
    "            break\n",
    "\n",
    "        if user_choice not in [\"rock\", \"paper\", \"scissors\"]:\n",
    "            print(\"Invalid choice. Please choose 'rock', 'paper', or 'scissors'.\")\n",
    "            continue\n",
    "\n",
    "        computer_choice = random.choice([\"rock\", \"paper\", \"scissors\"])\n",
    "        \n",
    "        result, user_increment, computer_increment = determine_winner(user_choice, computer_choice)\n",
    "        user_score += user_increment\n",
    "        computer_score += computer_increment\n",
    "\n",
    "        print(f\"\\nYou chose: {user_choice}\")\n",
    "        print(f\"Computer chose: {computer_choice}\")\n",
    "        print(result)\n",
    "        print(f\"Your Score: {user_score}, Computer Score: {computer_score}\")\n",
    "\n",
    "    print(\"\\nThanks for playing!\")\n",
    "\n",
    "if __name__ == \"__main__\":\n",
    "    main()"
   ]
  },
  {
   "cell_type": "code",
   "execution_count": null,
   "id": "5d0b95cd-83f8-4595-afa3-94c5e3959727",
   "metadata": {},
   "outputs": [],
   "source": []
  },
  {
   "cell_type": "code",
   "execution_count": null,
   "id": "cc17702e-33d8-483e-b089-401f5a7f135a",
   "metadata": {},
   "outputs": [],
   "source": []
  }
 ],
 "metadata": {
  "kernelspec": {
   "display_name": "Python 3 (ipykernel)",
   "language": "python",
   "name": "python3"
  },
  "language_info": {
   "codemirror_mode": {
    "name": "ipython",
    "version": 3
   },
   "file_extension": ".py",
   "mimetype": "text/x-python",
   "name": "python",
   "nbconvert_exporter": "python",
   "pygments_lexer": "ipython3",
   "version": "3.11.5"
  }
 },
 "nbformat": 4,
 "nbformat_minor": 5
}
